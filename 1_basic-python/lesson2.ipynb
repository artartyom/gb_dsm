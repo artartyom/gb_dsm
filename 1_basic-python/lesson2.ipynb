{
 "cells": [
  {
   "cell_type": "markdown",
   "id": "be5c2344",
   "metadata": {},
   "source": [
    "# Lesson 2\n",
    "\n",
    "## numbers: int, float, complex"
   ]
  },
  {
   "cell_type": "code",
   "execution_count": 15,
   "id": "09b792d9",
   "metadata": {},
   "outputs": [
    {
     "name": "stdout",
     "output_type": "stream",
     "text": [
      "True\n",
      "(-1+0j)\n"
     ]
    }
   ],
   "source": [
    "print(complex(2, 3) == (2+3j))\n",
    "## square of imaginary part is negative\n",
    "print(1j**2)"
   ]
  },
  {
   "cell_type": "code",
   "execution_count": 4,
   "id": "1b80c848",
   "metadata": {},
   "outputs": [
    {
     "name": "stdout",
     "output_type": "stream",
     "text": [
      "17\n",
      "82\n"
     ]
    }
   ],
   "source": [
    "print(int('10001', 2)) # from binary into int\n",
    "print(int('10001', 3)) # from ternary into int"
   ]
  },
  {
   "cell_type": "code",
   "execution_count": 7,
   "id": "f69e7e5a",
   "metadata": {
    "scrolled": true
   },
   "outputs": [
    {
     "name": "stdout",
     "output_type": "stream",
     "text": [
      "0b1111\n",
      "0o17\n",
      "0xf\n"
     ]
    }
   ],
   "source": [
    "print(bin(15)) \n",
    "print(oct(15))\n",
    "print(hex(15))"
   ]
  },
  {
   "cell_type": "markdown",
   "id": "927a81cf",
   "metadata": {},
   "source": [
    "## strings"
   ]
  },
  {
   "cell_type": "code",
   "execution_count": 53,
   "id": "25a02a61",
   "metadata": {},
   "outputs": [
    {
     "name": "stdout",
     "output_type": "stream",
     "text": [
      "d\n",
      "he\n",
      "hlowrd\n",
      "dlrow olle\n"
     ]
    }
   ],
   "source": [
    "# immutable\n",
    "s1 = 'hello world'\n",
    "#s1[0] = 'a' ## ERROR\n",
    "\n",
    "# slicing\n",
    "\n",
    "print(s1[-1]) # o\n",
    "print(s1[0:2]) # slice BEFORE symbol\n",
    "print(s1[::2]) # every second symbol\n",
    "print(s1[:0:-1]) # reverso + end BEFORE symbol 0 :D"
   ]
  },
  {
   "cell_type": "code",
   "execution_count": 37,
   "id": "25f8a2eb",
   "metadata": {
    "scrolled": true
   },
   "outputs": [
    {
     "name": "stdout",
     "output_type": "stream",
     "text": [
      "11\n",
      "['hello', 'world']\n",
      "['ya', 'rukojop']\n",
      "['ya', '', '', '', '', '', '', 'rukojop']\n",
      "help_me_step_bro_i_am_stuck_ya_rukojop\n"
     ]
    }
   ],
   "source": [
    "# working with strings\n",
    "\n",
    "print(len(s1)) # number of elements\n",
    "print(s1.split()) # returns a list - splits using ' ' as a default\n",
    "\n",
    "# note the difference in split w\\w-out arg\n",
    "\n",
    "s2 = \"ya       rukojop\"\n",
    "print(s2.split())\n",
    "print(s2.split(\" \"))\n",
    "\n",
    "# join uses the SEPARATOR for the method call and the stringlist as arg for method\n",
    "print('_'.join(['help', 'me', 'step', 'bro', 'i','am','stuck', *s2.split()]))\n",
    "\n",
    "#join expects a list of str and can't work with nested lists\n",
    "# print('_'.join(['help', 'me', 'step', 'bro', 'i','am','stuck', s2.split()])) ## ERROR"
   ]
  },
  {
   "cell_type": "code",
   "execution_count": 45,
   "id": "8d603cfb",
   "metadata": {},
   "outputs": [
    {
     "name": "stdout",
     "output_type": "stream",
     "text": [
      "Some String\n"
     ]
    }
   ],
   "source": [
    "# working with capital/lower letters\n",
    "\n",
    "s3 = 'sOmE sTrInG'\n",
    "\n",
    "# str.title() capitalizes the first letter of every word and lowers everything else\n",
    "print(s3.title())"
   ]
  },
  {
   "cell_type": "code",
   "execution_count": 40,
   "id": "ffbecc87",
   "metadata": {},
   "outputs": [
    {
     "name": "stdout",
     "output_type": "stream",
     "text": [
      "What's the stopword? sa\n",
      "fkn slave da\n",
      "fkn slave qd\n",
      "fkn slave sa\n",
      "Take a break, master\n"
     ]
    }
   ],
   "source": [
    "# str.title() or str.lower() are good to check for words\n",
    "\n",
    "stopword = input(\"What's the stopword? \").title()\n",
    "inputword = \"\"\n",
    "while not stopword in inputword:\n",
    "    inputword = input(\"fkn slave \").title().split()\n",
    "print(\"Take a break, master\")\n"
   ]
  },
  {
   "cell_type": "code",
   "execution_count": 47,
   "id": "c111f972",
   "metadata": {},
   "outputs": [
    {
     "data": {
      "text/plain": [
       "3"
      ]
     },
     "execution_count": 47,
     "metadata": {},
     "output_type": "execute_result"
    }
   ],
   "source": [
    "# str.count() counts the number of entries\n",
    "\n",
    "s4 = 'AAAAAAAAArgh'*9\n",
    "print(s4.lower().count('a')) #9a-string 9 times == 81\n",
    "\n",
    "# BUT\n",
    "['a','a','a','aaaaaaa'].count('a') # 3"
   ]
  },
  {
   "cell_type": "code",
   "execution_count": 49,
   "id": "24a01639",
   "metadata": {},
   "outputs": [
    {
     "name": "stdout",
     "output_type": "stream",
     "text": [
      "97\n",
      "a\n"
     ]
    }
   ],
   "source": [
    "print(ord(\"a\")) # symbol to ascii code\n",
    "print(chr(97)) # ascii code to symbol"
   ]
  },
  {
   "cell_type": "markdown",
   "id": "c9f0c61b",
   "metadata": {},
   "source": [
    "## list"
   ]
  },
  {
   "cell_type": "code",
   "execution_count": 89,
   "id": "037fd41f",
   "metadata": {},
   "outputs": [
    {
     "name": "stdout",
     "output_type": "stream",
     "text": [
      "[1, 2, 3, 'bob', True, [1, 2, 'bob'], 3]\n",
      "index 2\n",
      "[3, [1, 2, 'bob'], True, 'bob', 3, 2, 1]\n",
      "[1, 2, 'bob', True, [1, 2, 'bob'], 3]\n",
      "[1, 2, True, [1, 2, 'bob']]\n"
     ]
    }
   ],
   "source": [
    "# can hold mixed data types\n",
    "\n",
    "a = [1, 2, \"bob\", True, [1, 2, \"bob\"]]\n",
    "\n",
    "# mutable; in-place when you use a method\n",
    "\n",
    "a.append(3) #appends to the end of the list\n",
    "\n",
    "# to insert into a specific place: list.insert()\n",
    "a.insert(2, 3) #inserts number 3 (2nd arg) BEFORE index-2 element (1st arg)\n",
    "               # (analogous to slicing)\n",
    "print(a)\n",
    "\n",
    "# list.index() to find the index of a specific item\n",
    "print(\"index {}\" .format(a.index(3)))\n",
    "\n",
    "# sliceable just like a string\n",
    "\n",
    "print(a[::-1])\n",
    "\n",
    "# removing elements from a list\n",
    "# using the value\n",
    "a.remove(3) # removes the FIRST occurence\n",
    "print(a)\n",
    "\n",
    "# will throw an error if there are 0 occurences\n",
    "#a.remove(123123) ## ValueError\n",
    "\n",
    "# using the index (list.pop() returns the value)\n",
    "a.pop(2)\n",
    "a.pop() # by default, pop removes the last element\n",
    "print(a)"
   ]
  },
  {
   "cell_type": "code",
   "execution_count": 57,
   "id": "7ac4d76b",
   "metadata": {},
   "outputs": [
    {
     "name": "stdout",
     "output_type": "stream",
     "text": [
      "Array dimensions 2\n"
     ]
    },
    {
     "data": {
      "text/plain": [
       "[[0, 0], [0, 0]]"
      ]
     },
     "execution_count": 57,
     "metadata": {},
     "output_type": "execute_result"
    }
   ],
   "source": [
    "# 2d array\n",
    "\n",
    "arraydim = int(input(\"Array size: \"))\n",
    "array = [[0 for i in range(arraydim)] for j in range(arraydim)]\n",
    "\n",
    "array[1][1] #2nd element of 2nd row"
   ]
  },
  {
   "cell_type": "code",
   "execution_count": 84,
   "id": "22ecc57c",
   "metadata": {},
   "outputs": [
    {
     "name": "stdout",
     "output_type": "stream",
     "text": [
      "['el0', 'el1', 'el2', 'el3']\n"
     ]
    }
   ],
   "source": [
    "# unpacking tuples as a way to swap places of elements in a list\n",
    "\n",
    "b = [\"el1\", \"el0\", \"el2\", \"el3\"]\n",
    "b[1], b[0] = b[0], b[1]\n",
    "print(b)"
   ]
  },
  {
   "cell_type": "markdown",
   "id": "c4e46f52",
   "metadata": {},
   "source": [
    "## tuple"
   ]
  },
  {
   "cell_type": "code",
   "execution_count": 96,
   "id": "970d7f58",
   "metadata": {},
   "outputs": [
    {
     "name": "stdout",
     "output_type": "stream",
     "text": [
      "0\n",
      "('a', 1, [123, 'bob', 'haha bonk'])\n"
     ]
    },
    {
     "data": {
      "text/plain": [
       "('a', 1, [123, 'bob', 'haha bonk'])"
      ]
     },
     "execution_count": 96,
     "metadata": {},
     "output_type": "execute_result"
    }
   ],
   "source": [
    "# can hold mixed data types\n",
    "\n",
    "tup1 = (\"a\", 1, [123, \"bob\"])\n",
    "\n",
    "# IMMUTABLE - good to prevent accidental errors\n",
    "\n",
    "#tup1[0] = \"b\" ## ERROR\n",
    "#tup1.append(3) ## ERROR\n",
    "\n",
    "# index works\n",
    "print(tup1.index(\"a\"))\n",
    "\n",
    "# mutable items inside a tuple CAN be mutated\n",
    "tup1[2].append(\"haha bonk\")\n",
    "print(tup1)\n"
   ]
  },
  {
   "cell_type": "markdown",
   "id": "a5e46588",
   "metadata": {},
   "source": [
    "## dict"
   ]
  },
  {
   "cell_type": "markdown",
   "id": "54e95b9e",
   "metadata": {},
   "source": [
    ".keys() \\\n",
    ".values() \\\n",
    ".items() \\\n",
    ".get(key) \\\n",
    ".popitem() \\\n",
    ".pop(key) \\\n",
    ".setdefault(key) \\\n",
    ".update(new_dict) \\\n",
    ".copy() \\\n",
    ".clear()"
   ]
  },
  {
   "cell_type": "code",
   "execution_count": 130,
   "id": "aa02ad8b",
   "metadata": {
    "scrolled": true
   },
   "outputs": [
    {
     "name": "stdout",
     "output_type": "stream",
     "text": [
      "{'ind1': 'A', 2: 'B', 123: 'C'}\n",
      "{1: 'B'}\n",
      "dict_items([('ind1', 'A'), (2, 'B'), (123, 'C')])\n",
      "key: ind1 // value: A\n",
      "key: 2 // value: B\n",
      "key: 123 // value: C\n"
     ]
    }
   ],
   "source": [
    "# one-to-one matching; keys of any HASHABLE type \n",
    "a = {\"ind1\": \"A\", 2: \"B\", 123: \"C\"}\n",
    "#a = {\"ind1\": \"A\", 2: \"B\", [123]: \"C\"} ## TypeError: list is unhashable\n",
    "print(a)\n",
    "\n",
    "b = {1: \"A\", 1: \"B\"} # not error, but what for?\n",
    "print(b)\n",
    "\n",
    "print(a.items()) #list of tuples with items\n",
    "\n",
    "for k,v in a.items():\n",
    "    print(\"key: {} // value: {}\" .format(k, v))"
   ]
  },
  {
   "cell_type": "markdown",
   "id": "fac3f572",
   "metadata": {},
   "source": [
    "## for loop"
   ]
  },
  {
   "cell_type": "code",
   "execution_count": 125,
   "id": "872eabeb",
   "metadata": {},
   "outputs": [
    {
     "name": "stdout",
     "output_type": "stream",
     "text": [
      "0\n",
      "2\n",
      "4\n",
      "6\n",
      "8\n",
      "h\n",
      "e\n",
      "l\n",
      "l\n",
      "o\n",
      "w\n",
      "o\n",
      "r\n",
      "l\n",
      "d\n"
     ]
    }
   ],
   "source": [
    "# we need an iterable object to run the loop a finite number of times\n",
    "# if the number of iterations is unknown, use while instead\n",
    "\n",
    "for a in range(0,10,2):\n",
    "    print(a)\n",
    "\n",
    "# empty iterator == no output\n",
    "\n",
    "for a in []:\n",
    "    print(\"We iterated over a zero-element list, what did you expect?\")\n",
    "    \n",
    "# can iterate over immutables (strings, tuples)\n",
    "for a in \"helloworld\":\n",
    "    print(a)"
   ]
  },
  {
   "cell_type": "code",
   "execution_count": 129,
   "id": "7bf6edf7",
   "metadata": {
    "scrolled": true
   },
   "outputs": [
    {
     "name": "stdout",
     "output_type": "stream",
     "text": [
      "Letter a is number 0\n",
      "Letter b is number 1\n",
      "Letter c is number 2\n"
     ]
    }
   ],
   "source": [
    "# enumerate makes a generator with two elements: number and element\n",
    "letters = [\"a\", \"b\", \"c\"]\n",
    "for num, let in enumerate(letters):\n",
    "    print(\"Letter {} is number {}\" .format(let, num))"
   ]
  },
  {
   "cell_type": "markdown",
   "id": "f9d51c47",
   "metadata": {},
   "source": [
    "## Ternary operators: one-liners galore"
   ]
  },
  {
   "cell_type": "code",
   "execution_count": 154,
   "id": "2ae03bee",
   "metadata": {},
   "outputs": [
    {
     "name": "stdout",
     "output_type": "stream",
     "text": [
      "Number 1: 4\n",
      "Number 2: 1\n"
     ]
    },
    {
     "data": {
      "text/plain": [
       "3"
      ]
     },
     "execution_count": 154,
     "metadata": {},
     "output_type": "execute_result"
    }
   ],
   "source": [
    "# an if-else one-liner\n",
    "\n",
    "a, b = int(input(\"Number 1: \")), int(input(\"Number 2: \"))\n",
    "(a - b) if a > b else print(\"no can do sir\")"
   ]
  },
  {
   "cell_type": "markdown",
   "id": "5082976c",
   "metadata": {},
   "source": [
    "## Exceptions"
   ]
  },
  {
   "cell_type": "code",
   "execution_count": 156,
   "id": "1fd981c9",
   "metadata": {
    "scrolled": true
   },
   "outputs": [
    {
     "name": "stdout",
     "output_type": "stream",
     "text": [
      "Cannot mutate a tuple, lol\n"
     ]
    }
   ],
   "source": [
    "try:\n",
    "    (123, 321)[0] = 1\n",
    "except:\n",
    "    print(\"Cannot mutate a tuple, lol\")"
   ]
  },
  {
   "cell_type": "code",
   "execution_count": 166,
   "id": "0db7e5fd",
   "metadata": {},
   "outputs": [
    {
     "name": "stdout",
     "output_type": "stream",
     "text": [
      "enter a divisor: 51\n",
      "nice division mate, you get 0.62745 points\n",
      "we're done\n"
     ]
    }
   ],
   "source": [
    "#specific exceptions are better (catch specific things -> precise)\n",
    "\n",
    "try:\n",
    "    divisor = int(input(\"enter a divisor: \"))\n",
    "    result = 32/divisor\n",
    "except ValueError:\n",
    "    print(\"you needed a number...\")\n",
    "except ZeroDivisionError:\n",
    "    print(\"u wot m8\")\n",
    "else:\n",
    "    print(\"nice division mate, you get {} points\" .format(round(result, 5)))\n",
    "finally:\n",
    "    print(\"we're done\")"
   ]
  }
 ],
 "metadata": {
  "kernelspec": {
   "display_name": "Python 3",
   "language": "python",
   "name": "python3"
  },
  "language_info": {
   "codemirror_mode": {
    "name": "ipython",
    "version": 3
   },
   "file_extension": ".py",
   "mimetype": "text/x-python",
   "name": "python",
   "nbconvert_exporter": "python",
   "pygments_lexer": "ipython3",
   "version": "3.9.5"
  }
 },
 "nbformat": 4,
 "nbformat_minor": 5
}
