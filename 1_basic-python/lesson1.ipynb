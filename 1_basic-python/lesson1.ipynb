{
 "cells": [
  {
   "cell_type": "markdown",
   "id": "ce02a483",
   "metadata": {},
   "source": [
    "# Lesson 1"
   ]
  },
  {
   "cell_type": "markdown",
   "id": "01615984",
   "metadata": {},
   "source": [
    "## Basic in-built types\n",
    "- int\n",
    "- float\n",
    "- str\n",
    "- bool\n",
    "- list\n",
    "- tuple\n",
    "- dict\n",
    "\n",
    "2 - int, 2.0 - float, \"2\" - str\n",
    "\n",
    "(2, 2) - tuple, [2, 2] - list"
   ]
  },
  {
   "cell_type": "code",
   "execution_count": 6,
   "id": "9c90e7f0",
   "metadata": {},
   "outputs": [
    {
     "name": "stdout",
     "output_type": "stream",
     "text": [
      "<class 'list'>\n",
      "<class 'tuple'>\n"
     ]
    }
   ],
   "source": [
    "print(type([2, 2]))\n",
    "print(type((2, 2)))"
   ]
  },
  {
   "cell_type": "code",
   "execution_count": 11,
   "id": "7958fa59",
   "metadata": {},
   "outputs": [
    {
     "data": {
      "text/plain": [
       "True"
      ]
     },
     "execution_count": 11,
     "metadata": {},
     "output_type": "execute_result"
    }
   ],
   "source": [
    "2 ** 3 == 8"
   ]
  },
  {
   "cell_type": "code",
   "execution_count": 13,
   "id": "e35c13ce",
   "metadata": {},
   "outputs": [
    {
     "name": "stdout",
     "output_type": "stream",
     "text": [
      "1\n",
      "2\n"
     ]
    }
   ],
   "source": [
    "print(5 // 3) #integer division\n",
    "print(5 % 3) #remainder"
   ]
  },
  {
   "cell_type": "code",
   "execution_count": 14,
   "id": "a92bb44b",
   "metadata": {},
   "outputs": [
    {
     "data": {
      "text/plain": [
       "0"
      ]
     },
     "execution_count": 14,
     "metadata": {},
     "output_type": "execute_result"
    }
   ],
   "source": [
    "6 % 2 # even number, remainder == 0"
   ]
  },
  {
   "cell_type": "code",
   "execution_count": 18,
   "id": "7b8dd58f",
   "metadata": {},
   "outputs": [
    {
     "name": "stdout",
     "output_type": "stream",
     "text": [
      "What's your age? 123\n",
      "<class 'str'>\n"
     ]
    }
   ],
   "source": [
    "age = input(\"What's your age? \") # reads input\n",
    "# input always returns a string\n",
    "print(type(age))"
   ]
  },
  {
   "cell_type": "code",
   "execution_count": 22,
   "id": "26dd4c13",
   "metadata": {},
   "outputs": [
    {
     "name": "stdout",
     "output_type": "stream",
     "text": [
      "Enter input asd\n",
      "If branch\n"
     ]
    }
   ],
   "source": [
    "a = input(\"Enter input \")\n",
    "if a != \"\":\n",
    "    print(\"If branch\")\n",
    "else:\n",
    "    print(\"Else branch\")"
   ]
  },
  {
   "cell_type": "code",
   "execution_count": 24,
   "id": "bd3ee0b8",
   "metadata": {},
   "outputs": [
    {
     "name": "stdout",
     "output_type": "stream",
     "text": [
      "Enter input 123\n",
      "thanks!\n"
     ]
    }
   ],
   "source": [
    "a = input(\"Enter input \")\n",
    "while a == \"\":\n",
    "    a = input(\"PLEASE enter input \")\n",
    "print(\"thanks!\")\n",
    "\n",
    "# to skip one iteration - continue\n",
    "# to get out of the loop - break"
   ]
  },
  {
   "cell_type": "code",
   "execution_count": 31,
   "id": "6f448616",
   "metadata": {},
   "outputs": [
    {
     "name": "stdout",
     "output_type": "stream",
     "text": [
      "name = Artem\n",
      "name = Artem, age = 10, float = 1.000000\n",
      "name = Artem, age = 1.0, float = 10\n",
      "name = Artem, age = 1.0, float = 10\n"
     ]
    }
   ],
   "source": [
    "# string formatting\n",
    "\n",
    "age = 10\n",
    "name = \"Artem\"\n",
    "floater = 1.0\n",
    "\n",
    "#basic\n",
    "print(\"name =\", name) #long and overall meh\n",
    "\n",
    "# % print\n",
    "print(\"name = %s, age = %d, float = %f\" %(name, age, floater)) #types ARE important\n",
    "\n",
    "# format print\n",
    "print(\"name = {}, age = {}, float = {}\" .format(name, floater, age)) #types are NOT important\n",
    "\n",
    "# f string\n",
    "print(f\"name = {name}, age = {floater}, float = {age}\") #types are NOT importane"
   ]
  },
  {
   "cell_type": "markdown",
   "id": "82c765c4",
   "metadata": {},
   "source": [
    "## Reserved words\n",
    "\n",
    "- from\n",
    "- global\n",
    "- if\n",
    "- import\n",
    "- in\n",
    "- is\n",
    "- lambda\n",
    "- nonlocal\n",
    "- not\n",
    "- pass\n",
    "- raise\n",
    "- return\n",
    "- try\n",
    "- while\n",
    "- with\n",
    "-yield"
   ]
  }
 ],
 "metadata": {
  "kernelspec": {
   "display_name": "Python 3",
   "language": "python",
   "name": "python3"
  },
  "language_info": {
   "codemirror_mode": {
    "name": "ipython",
    "version": 3
   },
   "file_extension": ".py",
   "mimetype": "text/x-python",
   "name": "python",
   "nbconvert_exporter": "python",
   "pygments_lexer": "ipython3",
   "version": "3.9.5"
  }
 },
 "nbformat": 4,
 "nbformat_minor": 5
}
