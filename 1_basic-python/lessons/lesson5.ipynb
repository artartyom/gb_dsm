{
 "cells": [
  {
   "cell_type": "markdown",
   "id": "a826281d",
   "metadata": {},
   "source": [
    "# Lesson 5\n",
    "\n",
    "## Working with files"
   ]
  },
  {
   "cell_type": "code",
   "execution_count": 5,
   "id": "9d0c33eb",
   "metadata": {},
   "outputs": [],
   "source": [
    "f_obj = open(r\"/home/rheakobayachi/work/gb_dsm/1_basic-python/lessons/my_file.txt\", \"w\", encoding = \"utf-8\") # by default \"r\" mode, but the file should exist\n",
    "f_obj.close() # we should always close the file"
   ]
  },
  {
   "cell_type": "code",
   "execution_count": null,
   "id": "536c7f71",
   "metadata": {},
   "outputs": [],
   "source": []
  }
 ],
 "metadata": {
  "kernelspec": {
   "display_name": "Python 3",
   "language": "python",
   "name": "python3"
  },
  "language_info": {
   "codemirror_mode": {
    "name": "ipython",
    "version": 3
   },
   "file_extension": ".py",
   "mimetype": "text/x-python",
   "name": "python",
   "nbconvert_exporter": "python",
   "pygments_lexer": "ipython3",
   "version": "3.9.5"
  }
 },
 "nbformat": 4,
 "nbformat_minor": 5
}
