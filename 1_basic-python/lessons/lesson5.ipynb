{
 "cells": [
  {
   "cell_type": "markdown",
   "id": "a826281d",
   "metadata": {},
   "source": [
    "# Lesson 5\n",
    "\n",
    "## Working with files"
   ]
  },
  {
   "cell_type": "code",
   "execution_count": 1,
   "id": "9d0c33eb",
   "metadata": {},
   "outputs": [
    {
     "name": "stdout",
     "output_type": "stream",
     "text": [
      "def my_imported_func():\n",
      "\n",
      "\tprint('It worked!')\n",
      "\n"
     ]
    }
   ],
   "source": [
    "f_obj = open(r\"my_module.py\", \"r\", encoding = \"utf-8\") # by default \"r\" mode, but the file should exist\n",
    "\n",
    "for i in f_obj:\n",
    "    print(i)\n",
    "\n",
    "f_obj.close() # we should always close the file"
   ]
  },
  {
   "cell_type": "code",
   "execution_count": 2,
   "id": "536c7f71",
   "metadata": {
    "scrolled": true
   },
   "outputs": [
    {
     "name": "stdout",
     "output_type": "stream",
     "text": [
      "def my_imported_func():\n",
      "\tprint('It worked!')\n",
      "\n"
     ]
    }
   ],
   "source": [
    "f_obj = open(r\"my_module.py\", \"r\", encoding = \"utf-8\") # by default \"r\" mode, but the file should exist\n",
    "\n",
    "cont = f_obj.read()  # whole content once; optional arg: how many symbols to read\n",
    "f_obj.close()\n",
    "\n",
    "print(cont)"
   ]
  },
  {
   "cell_type": "code",
   "execution_count": 3,
   "id": "497d2525",
   "metadata": {},
   "outputs": [
    {
     "name": "stdout",
     "output_type": "stream",
     "text": [
      "['def my_imported_func():\\n', \"\\tprint('It worked!')\\n\"]\n"
     ]
    }
   ],
   "source": [
    "f_obj = open(r\"my_module.py\", \"r\", encoding = \"utf-8\") # by default \"r\" mode, but the file should exist\n",
    "\n",
    "cont = f_obj.readlines() #  a list of lines; optional arg: how many symbols to read; all lines shown in full\n",
    "print(cont) \n",
    "f_obj.close()"
   ]
  },
  {
   "cell_type": "code",
   "execution_count": 4,
   "id": "04d2ff0d",
   "metadata": {
    "scrolled": true
   },
   "outputs": [
    {
     "name": "stdout",
     "output_type": "stream",
     "text": [
      "def my_imported_func():\n",
      "\n"
     ]
    }
   ],
   "source": [
    "f_obj = open(r\"my_module.py\", \"r\", encoding = \"utf-8\") # by default \"r\" mode, but the file should exist\n",
    "\n",
    "cont = f_obj.readline() #  one line; optional arg shows how many symbols to read from ONE LINE ONLY\n",
    "print(cont) \n",
    "f_obj.close()"
   ]
  },
  {
   "cell_type": "code",
   "execution_count": 5,
   "id": "e9f97480",
   "metadata": {},
   "outputs": [
    {
     "name": "stdout",
     "output_type": "stream",
     "text": [
      "Line 2\n",
      "\n"
     ]
    },
    {
     "data": {
      "text/plain": [
       "'\\nInstead of print(file = fileconn), we can use\\nfile.write(string)\\nfile.writelines(list)\\n'"
      ]
     },
     "execution_count": 5,
     "metadata": {},
     "output_type": "execute_result"
    }
   ],
   "source": [
    "f_obj = open(r\"my_file.txt\", \"w\")\n",
    "\n",
    "# \"w\" mode overwrites the contents of the file...\n",
    "\n",
    "print(\"Line 1\", file = f_obj)\n",
    "f_obj.close()\n",
    "\n",
    "f_obj = open(r\"my_file.txt\", \"w\")\n",
    "print(\"Line 2\", file = f_obj)\n",
    "f_obj.close()\n",
    "\n",
    "f_obj = open(r\"my_file.txt\", \"r\")\n",
    "print(f_obj.read())\n",
    "f_obj.close()\n",
    "\n",
    "\"\"\"\n",
    "Instead of print(file = fileconn), we can use\n",
    "file.write(string)\n",
    "file.writelines(list)\n",
    "\"\"\"\n",
    "\n"
   ]
  },
  {
   "cell_type": "code",
   "execution_count": 6,
   "id": "54500f3c",
   "metadata": {},
   "outputs": [
    {
     "name": "stdout",
     "output_type": "stream",
     "text": [
      "File is closed.\n",
      "\n",
      "Line 2\n",
      "Line 3!\n",
      "Line 4\n"
     ]
    }
   ],
   "source": [
    "# Context managers close the file automatically\n",
    "\n",
    "with open(r\"my_file.txt\", \"a\") as file: # append mode\n",
    "    file.write(\"Line 3!\\n\")\n",
    "\n",
    "try:\n",
    "    file.write(\"123\")\n",
    "except ValueError:\n",
    "    print(\"File is closed.\")\n",
    "finally:\n",
    "    with open(r\"my_file.txt\", \"a+\") as file: # read and write\n",
    "        file.writelines(\"Line 4\")\n",
    "        \n",
    "        print(file.read()) # need to reset the cursor\n",
    "        file.seek(0) # start from 0th byte\n",
    "        print(file.read())"
   ]
  },
  {
   "cell_type": "code",
   "execution_count": 7,
   "id": "18ae3b50",
   "metadata": {},
   "outputs": [
    {
     "name": "stdout",
     "output_type": "stream",
     "text": [
      "20\n",
      "123\n",
      "hello world\n",
      "35\n",
      "Cyrillic letter = 2 bytes\n"
     ]
    }
   ],
   "source": [
    "with open(r\"my_file.txt\", \"w+\", encoding = \"utf-8\") as file:\n",
    "    file.writelines(['abc hi\\n', 'привет\\n', '123\\n', 'hello world'])\n",
    "    file.seek(20)\n",
    "    print(file.tell()) # current cursor position\n",
    "    print(file.read())\n",
    "    print(file.tell()) # basically, bytelength if in the end of the file\n",
    "\n",
    "    \n",
    "# Cyrillic letters need 2 bytes    \n",
    "\n",
    "try:\n",
    "    with open(r\"my_file.txt\", \"w+\") as file:\n",
    "        file.writelines([\"abc hi\\n\", \"привет\\n\", \"123\\n\", \"hello world\"])\n",
    "        file.seek(8)\n",
    "        print(file.read())\n",
    "except:\n",
    "        print(\"Cyrillic letter = 2 bytes\")"
   ]
  },
  {
   "cell_type": "code",
   "execution_count": 8,
   "id": "493d670a",
   "metadata": {
    "scrolled": true
   },
   "outputs": [
    {
     "name": "stdout",
     "output_type": "stream",
     "text": [
      "3\n",
      "hello world\n",
      "\n",
      "====\n",
      "\n",
      "123\n",
      "hello world\n",
      "my_file.txt w+ True\n"
     ]
    }
   ],
   "source": [
    "with open(\"my_file.txt\", \"w+\", encoding = \"utf-8\") as file:\n",
    "    file.writelines(['abc hi\\n', 'привет\\n', '123\\n', 'hello world'])\n",
    "    file.seek(22) # 22 bytes - garbled\n",
    "    print(file.read())\n",
    "    print(\"\\n====\\n\")\n",
    "    file.seek(20) # 20 bytes - OK (2-byte difference due to 2 newlines)\n",
    "    print(file.read())\n",
    "    \n",
    "print(file.name, file.mode, file.closed)\n",
    "# ACTUALLY in Windows newline is 2 bytes \\c\\r"
   ]
  },
  {
   "cell_type": "code",
   "execution_count": 9,
   "id": "37ef795f",
   "metadata": {},
   "outputs": [
    {
     "name": "stdout",
     "output_type": "stream",
     "text": [
      "False\n"
     ]
    }
   ],
   "source": [
    "import os\n",
    "os.remove(\"my_file.txt\")\n",
    "print(os.path.exists(\"my_file.txt\"))"
   ]
  },
  {
   "cell_type": "markdown",
   "id": "1ded6784",
   "metadata": {},
   "source": [
    "## json\n",
    "\n",
    "`import json`\n",
    "\n",
    "Сериализация - методы dump(), dumps() - из Python в json (строка). \n",
    "\n",
    "`dump()` для записи в файл\n",
    "\n",
    "`dumps()` для записи в переменную\n",
    "\n",
    "dict -> object\\\n",
    "list, tuple -> array\\\n",
    "str -> string\\\n",
    "int, long, float -> number\\\n",
    "True -> true\\\n",
    "False -> false\\\n",
    "None -> null\n",
    "\n",
    "Десериализация - из json в Python-словарь\n",
    "\n",
    "`load()` - из файла\n",
    "\n",
    "`loads()` - из строки"
   ]
  },
  {
   "cell_type": "code",
   "execution_count": 10,
   "id": "cc60e41d",
   "metadata": {},
   "outputs": [
    {
     "name": "stdout",
     "output_type": "stream",
     "text": [
      "{\"income\": {\"salary\": 50000, \"bonus\": 20000}}\n",
      "<class 'str'>\n",
      "<class 'dict'>\n",
      "<class 'dict'>\n"
     ]
    }
   ],
   "source": [
    "import json\n",
    "import os\n",
    "\n",
    "dictToWrite = {\n",
    "    \"income\": {\n",
    "        \"salary\": 50000,\n",
    "        \"bonus\": 20000\n",
    "    }\n",
    "}\n",
    "\n",
    "with open(\"my_data.json\", \"w\") as target:\n",
    "    json.dump(dictToWrite, target)\n",
    "    \n",
    "os.path.exists(\"my_data.json\")\n",
    "\n",
    "dump = json.dumps(dictToWrite) # returns a string\n",
    "print(dump)\n",
    "print(type(dump))\n",
    "\n",
    "\n",
    "with open(\"./my_data.json\", \"r\") as target:\n",
    "    dictRead = json.load(target)\n",
    "    \n",
    "print(type(dictRead))\n",
    "print(type(json.loads(dump)))"
   ]
  }
 ],
 "metadata": {
  "kernelspec": {
   "display_name": "Python 3",
   "language": "python",
   "name": "python3"
  },
  "language_info": {
   "codemirror_mode": {
    "name": "ipython",
    "version": 3
   },
   "file_extension": ".py",
   "mimetype": "text/x-python",
   "name": "python",
   "nbconvert_exporter": "python",
   "pygments_lexer": "ipython3",
   "version": "3.9.5"
  }
 },
 "nbformat": 4,
 "nbformat_minor": 5
}
