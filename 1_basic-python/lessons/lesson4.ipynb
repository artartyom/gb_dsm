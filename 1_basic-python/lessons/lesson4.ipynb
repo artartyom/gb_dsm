{
 "cells": [
  {
   "cell_type": "markdown",
   "id": "d4a0ac58",
   "metadata": {},
   "source": [
    "# Lesson 4\n",
    "\n",
    "## Importing modules"
   ]
  },
  {
   "cell_type": "code",
   "execution_count": 8,
   "id": "23d3b081",
   "metadata": {},
   "outputs": [
    {
     "name": "stdout",
     "output_type": "stream",
     "text": [
      "1.0\n",
      "1.0\n",
      "0.0\n"
     ]
    }
   ],
   "source": [
    "# three ways of importing things\n",
    "\n",
    "import math # need to use dot notation\n",
    "print(math.cos(0))\n",
    "\n",
    "from math import sin, cos # don't need to use dot notation; it can actually become a problem\n",
    "print(cos(0))\n",
    "print(sin(0))\n",
    "\n",
    "from math import * # import everything - really not recommended, dot notation is clearer"
   ]
  },
  {
   "cell_type": "markdown",
   "id": "68fd92bd",
   "metadata": {},
   "source": [
    "We can create our own modules, it's basically just a python file with function definition."
   ]
  },
  {
   "cell_type": "code",
   "execution_count": 9,
   "id": "198b09ba",
   "metadata": {},
   "outputs": [
    {
     "name": "stdout",
     "output_type": "stream",
     "text": [
      "It worked!\n"
     ]
    }
   ],
   "source": [
    "import my_module as mml\n",
    "mml.my_imported_func()"
   ]
  },
  {
   "cell_type": "markdown",
   "id": "86420efb",
   "metadata": {},
   "source": [
    "## Script with parameters"
   ]
  },
  {
   "cell_type": "code",
   "execution_count": 15,
   "id": "ff942e51",
   "metadata": {},
   "outputs": [
    {
     "name": "stdout",
     "output_type": "stream",
     "text": [
      "['/usr/lib/python3.9/site-packages/ipykernel_launcher.py', '-f', '/home/rheakobayachi/.local/share/jupyter/runtime/kernel-b609f883-6db7-445f-9e9b-1fc15e662d3d.json']\n"
     ]
    }
   ],
   "source": [
    "from sys import argv\n",
    "print(argv)\n",
    "\n",
    "# argv[0] is the path to the executed script\n",
    "# other argv positions are the command line options\n",
    "# they are always returned as strings"
   ]
  },
  {
   "cell_type": "code",
   "execution_count": null,
   "id": "6b8511a0",
   "metadata": {},
   "outputs": [],
   "source": [
    "# We can do things like this:\n",
    "# map(int, argv[1:])"
   ]
  },
  {
   "cell_type": "markdown",
   "id": "1b054f38",
   "metadata": {},
   "source": [
    "## Generators"
   ]
  },
  {
   "cell_type": "code",
   "execution_count": 22,
   "id": "e89e18a3",
   "metadata": {},
   "outputs": [
    {
     "name": "stdout",
     "output_type": "stream",
     "text": [
      "[0, 1, 2, 1, 4, 1, 6, 1, 8, 1]\n",
      "{1: 0, 3: 2, 5: 4, 7: 6, 9: 8}\n"
     ]
    }
   ],
   "source": [
    "my_list = range(10)\n",
    "el = [i if i % 2 == 0 else 1 for i in my_list ] # if/else: for loop in the end\n",
    "print(el)\n",
    "di = {i + 1 : i for i in my_list if i % 2 == 0} # if: for loop in the beginning\n",
    "print(di)"
   ]
  },
  {
   "cell_type": "code",
   "execution_count": 30,
   "id": "cd8b9038",
   "metadata": {
    "scrolled": true
   },
   "outputs": [
    {
     "name": "stdout",
     "output_type": "stream",
     "text": [
      "['A1', 'B1', 'C1', 'A2', 'B2', 'C2', 'A3', 'B3', 'C3']\n",
      "['A1', 'B1', 'C1', 'A2', 'B2', 'C2', 'A3', 'B3', 'C3']\n"
     ]
    }
   ],
   "source": [
    "l1 = [\"A\", \"B\", \"C\"]\n",
    "l2 = [\"1\", \"2\", \"3\"]\n",
    "\n",
    "l3 = [a + b for b in l2 for a in l1]\n",
    "print(l3) \n",
    "# l2 is the 'outer' for, l1 is the 'inner' for\n",
    "# similar to:\n",
    "\n",
    "c = []\n",
    "\n",
    "for b in l2:\n",
    "    for a in l1:\n",
    "        c.append(a + b)\n",
    "print(c)"
   ]
  },
  {
   "cell_type": "code",
   "execution_count": 33,
   "id": "5c206614",
   "metadata": {},
   "outputs": [
    {
     "name": "stdout",
     "output_type": "stream",
     "text": [
      "cs arg  23rf\n",
      "['cs', 'arg', '23rf']\n"
     ]
    }
   ],
   "source": [
    "# any iterable works\n",
    "c = [a for a in input().split()]\n",
    "print(c)"
   ]
  },
  {
   "cell_type": "markdown",
   "id": "509c2d0e",
   "metadata": {},
   "source": [
    "Generators vs generator expressions: generator expressions are not evaluated before we need them (lazy eval).\n",
    "\n",
    "\n",
    "Generator expressions are denoted with round brackets"
   ]
  },
  {
   "cell_type": "code",
   "execution_count": 11,
   "id": "736a0507",
   "metadata": {},
   "outputs": [
    {
     "name": "stdout",
     "output_type": "stream",
     "text": [
      "0.7554098625001643\n",
      "7.575399649795145e-06\n"
     ]
    }
   ],
   "source": [
    "import timeit\n",
    "from statistics import mean\n",
    "print(mean(timeit.repeat('[i for i in range (1000000)]', number = 10, repeat = 10)))\n",
    "print(mean(timeit.repeat('(i for i in range (1000000))', number = 10, repeat = 10)))"
   ]
  },
  {
   "cell_type": "code",
   "execution_count": 23,
   "id": "3e850ecc",
   "metadata": {
    "scrolled": true
   },
   "outputs": [
    {
     "name": "stdout",
     "output_type": "stream",
     "text": [
      "<generator object generator at 0x7fa399f28ac0>\n",
      "0\n",
      "1\n",
      "2\n",
      "3\n",
      "4\n",
      "5\n",
      "6\n",
      "7\n",
      "8\n",
      "9\n"
     ]
    }
   ],
   "source": [
    "# to return values from generator expressions, we need yield()\n",
    "# this is faster dur to lazy eval\n",
    "\n",
    "def generator():\n",
    "    for i in range(10):\n",
    "        yield i\n",
    "        \n",
    "g = generator()    \n",
    "\n",
    "print(g)\n",
    "\n",
    "for element in g:\n",
    "    print(element)\n",
    "    \n",
    "# but I can't walk the generator expression twice\n",
    "\n",
    "for element in g:\n",
    "    print(element)"
   ]
  },
  {
   "cell_type": "markdown",
   "id": "9b629f61",
   "metadata": {},
   "source": [
    "## specific modules"
   ]
  },
  {
   "cell_type": "code",
   "execution_count": 36,
   "id": "02338776",
   "metadata": {
    "scrolled": true
   },
   "outputs": [
    {
     "name": "stdout",
     "output_type": "stream",
     "text": [
      "0.052363598850944326\n",
      "2\n",
      "7\n"
     ]
    }
   ],
   "source": [
    "import random\n",
    "random.seed(123)\n",
    "\n",
    "print(random.random()) # a float between 0 and 1\n",
    "print(random.randint(1, 10)) # gives an int inside a given range\n",
    "print(random.randrange(1, 10, 2)) # gives an int inside a given range (as usual, upper bound not included)"
   ]
  },
  {
   "cell_type": "code",
   "execution_count": 41,
   "id": "8726fad8",
   "metadata": {},
   "outputs": [
    {
     "name": "stdout",
     "output_type": "stream",
     "text": [
      "1 + 2\n",
      "3 + 3\n",
      "6 + 4\n",
      "10 + 5\n"
     ]
    },
    {
     "data": {
      "text/plain": [
       "15"
      ]
     },
     "execution_count": 41,
     "metadata": {},
     "output_type": "execute_result"
    }
   ],
   "source": [
    "from functools import reduce\n",
    "def mysumma(el1, el2):\n",
    "    print(\"{} + {}\".format(el1, el2))\n",
    "    return el1+el2\n",
    "\n",
    "mylist = [1,2,3,4,5]\n",
    "reduce(mysumma, mylist)"
   ]
  },
  {
   "cell_type": "code",
   "execution_count": 42,
   "id": "56b862d0",
   "metadata": {},
   "outputs": [],
   "source": [
    "from time import sleep\n",
    "sleep(10)"
   ]
  },
  {
   "cell_type": "code",
   "execution_count": 43,
   "id": "dc8fc4fa",
   "metadata": {},
   "outputs": [
    {
     "name": "stdout",
     "output_type": "stream",
     "text": [
      "10\n",
      "11\n",
      "12\n",
      "13\n",
      "14\n",
      "15\n",
      "16\n",
      "17\n",
      "18\n",
      "19\n",
      "20\n",
      "21\n"
     ]
    }
   ],
   "source": [
    "from itertools import count\n",
    "\n",
    "for i in count(10):\n",
    "    print(i)\n",
    "    if i > 20: break"
   ]
  },
  {
   "cell_type": "code",
   "execution_count": 45,
   "id": "440f9ad7",
   "metadata": {
    "scrolled": true
   },
   "outputs": [
    {
     "name": "stdout",
     "output_type": "stream",
     "text": [
      "1\n",
      "2\n",
      "3\n",
      "4\n",
      "1\n",
      "2\n",
      "3\n",
      "4\n",
      "1\n",
      "2\n",
      "3\n"
     ]
    }
   ],
   "source": [
    "from itertools import cycle\n",
    "c = 0\n",
    "\n",
    "for el in cycle((1, 2, 3, 4)):\n",
    "    print(el)\n",
    "    c += 1\n",
    "    if c > 10: break"
   ]
  },
  {
   "cell_type": "code",
   "execution_count": 47,
   "id": "1d1cd1f4",
   "metadata": {},
   "outputs": [
    {
     "name": "stdout",
     "output_type": "stream",
     "text": [
      "1\n",
      "2\n"
     ]
    }
   ],
   "source": [
    "# kinds like a generator with yield, but can be cycled\n",
    "\n",
    "from itertools import cycle\n",
    "c = cycle((1, 2, 3, 4))\n",
    "\n",
    "print(next(c))\n",
    "print(next(c))"
   ]
  }
 ],
 "metadata": {
  "kernelspec": {
   "display_name": "Python 3",
   "language": "python",
   "name": "python3"
  },
  "language_info": {
   "codemirror_mode": {
    "name": "ipython",
    "version": 3
   },
   "file_extension": ".py",
   "mimetype": "text/x-python",
   "name": "python",
   "nbconvert_exporter": "python",
   "pygments_lexer": "ipython3",
   "version": "3.9.5"
  }
 },
 "nbformat": 4,
 "nbformat_minor": 5
}
