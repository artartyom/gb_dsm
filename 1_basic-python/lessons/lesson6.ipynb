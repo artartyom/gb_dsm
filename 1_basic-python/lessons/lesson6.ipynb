{
 "cells": [
  {
   "cell_type": "markdown",
   "id": "19190906",
   "metadata": {},
   "source": [
    "# Object-oriented programming"
   ]
  },
  {
   "cell_type": "code",
   "execution_count": 1,
   "id": "a0d0622b",
   "metadata": {},
   "outputs": [],
   "source": [
    "class Auto:\n",
    "    # attributes (for the whole class) -- global\n",
    "    name = 'Mazda'\n",
    "    model = 'CX9'\n",
    "    year = 2020\n",
    "    car_count = 0\n",
    "    \n",
    "    # methods\n",
    "    def __init__(self, name, model, year): # __init__ is launched automatically when an object is created\n",
    "    # 'self' vars belong to the specific object\n",
    "        self.n = name # Public -- accessible from everywhere\n",
    "        self._m = model # Protected -- only accessible from this file\n",
    "        self.__y = year # Private -- only accessible from within this class\n",
    "        print(self._m)\n",
    "        print(self.__y)\n",
    "        Auto.car_count += 1 # not SELF - working with the class attribute\n",
    "    \n",
    "    def start(self):\n",
    "        print(\"Машина поехала\")\n",
    "        \n",
    "    def stop(self):\n",
    "        print(\"Машина остановилась\")\n",
    "\n",
    "        \n",
    "    # Инкапсуляция\n",
    "    def _prot_method(self):\n",
    "        print(\"This is a protected method\")\n",
    "        \n",
    "    def __priv_method(self):\n",
    "        print(\"This is a private method!\")"
   ]
  },
  {
   "cell_type": "code",
   "execution_count": 2,
   "id": "cc96a651",
   "metadata": {},
   "outputs": [
    {
     "name": "stdout",
     "output_type": "stream",
     "text": [
      "TT\n",
      "2000\n",
      "Corvette\n",
      "1997\n"
     ]
    }
   ],
   "source": [
    "car1 = Auto(\"Audi\", \"TT\", \"2000\")\n",
    "\n",
    "car2 = Auto(\"Chevrolet\", \"Corvette\", \"1997\")\n"
   ]
  },
  {
   "cell_type": "code",
   "execution_count": 3,
   "id": "8e8e71e5",
   "metadata": {},
   "outputs": [
    {
     "name": "stdout",
     "output_type": "stream",
     "text": [
      "Mazda\n",
      "Audi\n",
      "2\n",
      "2\n"
     ]
    }
   ],
   "source": [
    "print(car1.name)\n",
    "print(car1.n)\n",
    "\n",
    "print(car1.car_count) # car_count is an attribute of the whole class\n",
    "print(car2.car_count)\n",
    "\n"
   ]
  },
  {
   "cell_type": "code",
   "execution_count": 4,
   "id": "d17d4710",
   "metadata": {
    "scrolled": true
   },
   "outputs": [
    {
     "name": "stdout",
     "output_type": "stream",
     "text": [
      "Corvette\n"
     ]
    },
    {
     "ename": "AttributeError",
     "evalue": "'Auto' object has no attribute '__y'",
     "output_type": "error",
     "traceback": [
      "\u001b[0;31m---------------------------------------------------------------------------\u001b[0m",
      "\u001b[0;31mAttributeError\u001b[0m                            Traceback (most recent call last)",
      "\u001b[0;32m<ipython-input-4-9195a9eb4593>\u001b[0m in \u001b[0;36m<module>\u001b[0;34m\u001b[0m\n\u001b[1;32m      1\u001b[0m \u001b[0mprint\u001b[0m\u001b[0;34m(\u001b[0m\u001b[0mcar2\u001b[0m\u001b[0;34m.\u001b[0m\u001b[0m_m\u001b[0m\u001b[0;34m)\u001b[0m \u001b[0;31m# Works\u001b[0m\u001b[0;34m\u001b[0m\u001b[0;34m\u001b[0m\u001b[0m\n\u001b[0;32m----> 2\u001b[0;31m \u001b[0mprint\u001b[0m\u001b[0;34m(\u001b[0m\u001b[0mcar2\u001b[0m\u001b[0;34m.\u001b[0m\u001b[0m__y\u001b[0m\u001b[0;34m)\u001b[0m \u001b[0;31m# Error - private attribute\u001b[0m\u001b[0;34m\u001b[0m\u001b[0;34m\u001b[0m\u001b[0m\n\u001b[0m",
      "\u001b[0;31mAttributeError\u001b[0m: 'Auto' object has no attribute '__y'"
     ]
    }
   ],
   "source": [
    "print(car2._m) # Works\n",
    "print(car2.__y) # Error - private attribute"
   ]
  },
  {
   "cell_type": "code",
   "execution_count": null,
   "id": "226f21f3",
   "metadata": {
    "scrolled": true
   },
   "outputs": [],
   "source": [
    "# workaround for private attributes\n",
    "print(car2._Auto__y) # access it 'from within the class'"
   ]
  },
  {
   "cell_type": "code",
   "execution_count": null,
   "id": "271d3c08",
   "metadata": {
    "scrolled": true
   },
   "outputs": [],
   "source": [
    "car1._prot_method()\n",
    "car2._Auto__priv_method()"
   ]
  },
  {
   "cell_type": "code",
   "execution_count": null,
   "id": "49101f16",
   "metadata": {},
   "outputs": [],
   "source": [
    "class Racecar(Auto): # inherits everything from Auto\n",
    "    \n",
    "    def __init__(self, name, model, year, sound):\n",
    "        super().__init__(name, model, year) \n",
    "        \"\"\"\n",
    "        super() means that we search upwards through ALL the parents\n",
    "        Alternatively, we can specify the class: Auto.__init__(self, name, model, year)\n",
    "        \"\"\"\n",
    "        self.sound = sound\n",
    "    def start(self):\n",
    "        print(self.sound)"
   ]
  },
  {
   "cell_type": "code",
   "execution_count": null,
   "id": "235a49ea",
   "metadata": {
    "scrolled": true
   },
   "outputs": [],
   "source": [
    "car3 = Racecar(\"Ferrari\", \"F2000\", \"2000\", \"Вррррр\")\n",
    "\n",
    "car2.start()\n",
    "car3.start()"
   ]
  },
  {
   "cell_type": "code",
   "execution_count": null,
   "id": "7e3075d5",
   "metadata": {},
   "outputs": [],
   "source": [
    "# Inheriting from multiple classes\n",
    "\n",
    "class Parent1:\n",
    "    \n",
    "    def printPar1(self):\n",
    "        print(\"print1\")\n",
    "\n",
    "class Parent2:\n",
    "    \n",
    "    def printPar2(self):\n",
    "        print(\"print2\")\n",
    "        \n",
    "class Parent3:\n",
    "    \n",
    "    def printPar1(self): #to explore name conflicts\n",
    "        print(\"print3\")\n",
    "        \n",
    "class Child(Parent1, Parent2, Parent3):\n",
    "    pass"
   ]
  },
  {
   "cell_type": "code",
   "execution_count": null,
   "id": "e34fb948",
   "metadata": {},
   "outputs": [],
   "source": [
    "a = Child()\n",
    "a.printPar1() # Parent 1 is before Parent 3 in class definition\n",
    "a.printPar2()"
   ]
  },
  {
   "cell_type": "code",
   "execution_count": null,
   "id": "001c3890",
   "metadata": {},
   "outputs": [],
   "source": [
    "# method overloading - different logic depending on the number/type of provided parameters\n",
    "\n",
    "# method overriding - when in the child class you redefine a method that already exists in the parent class"
   ]
  }
 ],
 "metadata": {
  "kernelspec": {
   "display_name": "Python 3",
   "language": "python",
   "name": "python3"
  },
  "language_info": {
   "codemirror_mode": {
    "name": "ipython",
    "version": 3
   },
   "file_extension": ".py",
   "mimetype": "text/x-python",
   "name": "python",
   "nbconvert_exporter": "python",
   "pygments_lexer": "ipython3",
   "version": "3.9.5"
  }
 },
 "nbformat": 4,
 "nbformat_minor": 5
}
