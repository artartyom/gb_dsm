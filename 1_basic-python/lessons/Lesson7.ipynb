{
 "cells": [
  {
   "cell_type": "markdown",
   "id": "fa9c6c1d",
   "metadata": {},
   "source": [
    "# Lesson 7\n"
   ]
  },
  {
   "cell_type": "markdown",
   "id": "343a3d08",
   "metadata": {},
   "source": [
    "`__init__()` - при инициализации объекта класса\n",
    "\n",
    "`__del__()` - при удалении объекта класса\n",
    "\n",
    "`__str__()` - при передаче класса функциям `str()` или `print()`\n",
    "\n",
    "`__add__()` - при участии в качестве слагаемого с левой стороны\n",
    "\n",
    "`__setattr__()` - при присвоении значения атрибуту объекта\n",
    "\n",
    "`__getitem__()` - при извлечении элемента по индексу\n",
    "\n",
    "`__call__()` - при обращении к объекту класса как к функции"
   ]
  },
  {
   "cell_type": "code",
   "execution_count": 14,
   "id": "349d8758",
   "metadata": {},
   "outputs": [
    {
     "name": "stdout",
     "output_type": "stream",
     "text": [
      "Эта строка была напечатана 1 раз.\n",
      "Аргументы: 2, 6.\n"
     ]
    },
    {
     "data": {
      "text/plain": [
       "<__main__.My at 0x7f0213d423d0>"
      ]
     },
     "execution_count": 14,
     "metadata": {},
     "output_type": "execute_result"
    }
   ],
   "source": [
    "class My:\n",
    "    def __init__(self, arg1, arg2):\n",
    "        self.arg1 = arg1\n",
    "        self.arg2 = arg2\n",
    "        self.prints = 0\n",
    "        \n",
    "    def __str__(self):\n",
    "        self.prints += 1\n",
    "        print(\"Эта строка была напечатана {} раз.\".format(self.prints))\n",
    "        return \"Аргументы: {}, {}.\".format(self.arg1, self.arg2)\n",
    "    \n",
    "#    def __add__(self, other): # will produce bugs with 3 or more class objects\n",
    "#        return self.arg1 + other.arg1, self.arg2 + other.arg2\n",
    "\n",
    "    def __add__(self, other):\n",
    "        return My(self.arg1 + other.arg1, self.arg2 + other.arg2) # now this returns a class - so no bugs\n",
    "    \n",
    "one = My(2, 6)\n",
    "print(one)\n",
    "one + one + one"
   ]
  },
  {
   "cell_type": "markdown",
   "id": "6515bb8b",
   "metadata": {},
   "source": [
    "Интерфейсы - совокупность публичных методов для взаимодействия с объектом."
   ]
  },
  {
   "cell_type": "markdown",
   "id": "b2fd41b6",
   "metadata": {},
   "source": [
    "Итератор - объект с методом `__iter__()`, запуск этого метода возвращает объект с методом `__next__()`\n",
    "\n",
    "Цикл `for` во время каждой итерации запускает метод `__next()__`, который возвращает очередной элемент итератора\n",
    "\n",
    "Когда элементы закончились, `__next__()` генерирует исключение `StopIteration`"
   ]
  },
  {
   "cell_type": "code",
   "execution_count": 29,
   "id": "eabaf85f",
   "metadata": {},
   "outputs": [],
   "source": [
    "class Iterator:\n",
    "    \n",
    "    def __init__(self, a, b):\n",
    "        self.a = a\n",
    "        self.stop = b\n",
    "        \n",
    "    def __next__(self):\n",
    "        if self.a < self.stop:\n",
    "            self.a += 1\n",
    "            return self.a\n",
    "        else:\n",
    "            raise StopIteration\n",
    "            \n",
    "class Iterable:\n",
    "    \n",
    "    def __init__(self, a, b):\n",
    "        self.a = a\n",
    "        self.stop = b\n",
    "    \n",
    "    def __iter__(self):\n",
    "        return Iterator(self.a, self.stop)"
   ]
  },
  {
   "cell_type": "code",
   "execution_count": 30,
   "id": "1ee79d35",
   "metadata": {},
   "outputs": [
    {
     "name": "stdout",
     "output_type": "stream",
     "text": [
      "3\n",
      "4\n",
      "5\n"
     ]
    }
   ],
   "source": [
    "for q in Iterable(2, 5):\n",
    "    print(q)"
   ]
  },
  {
   "cell_type": "markdown",
   "id": "fdb9c37d",
   "metadata": {},
   "source": [
    "Логичнее объединить `__iter__()` и `__next__()` внутри одного класса"
   ]
  },
  {
   "cell_type": "code",
   "execution_count": 33,
   "id": "f50b2ca0",
   "metadata": {},
   "outputs": [
    {
     "name": "stdout",
     "output_type": "stream",
     "text": [
      "3\n",
      "4\n",
      "5\n"
     ]
    }
   ],
   "source": [
    "class Iterable:\n",
    "    \n",
    "    def __init__(self, a, b):\n",
    "        self.a = a\n",
    "        self.stop = b\n",
    "    \n",
    "    def __next__(self):\n",
    "        if self.a < self.stop:\n",
    "            self.a += 1\n",
    "            return self.a\n",
    "        else:\n",
    "            raise StopIteration\n",
    "    \n",
    "    def __iter__(self):\n",
    "        return self\n",
    "\n",
    "a = Iterable(2,5)\n",
    "\n",
    "for q in a:\n",
    "    print(q)"
   ]
  },
  {
   "cell_type": "markdown",
   "id": "92ddf826",
   "metadata": {},
   "source": [
    "Декоратор - функция, которая меняет логику другой функции\n",
    "\n",
    "`@abstractmethod` - для создания абстрактных методов абстрактного класса ABC. Абстрактные методы - методы, которые обязательно нужно будет переопределить в дочерних классах. Иначе, если класс не переопределен, будет ошибка"
   ]
  },
  {
   "cell_type": "code",
   "execution_count": 39,
   "id": "961f575d",
   "metadata": {},
   "outputs": [
    {
     "ename": "TypeError",
     "evalue": "Can't instantiate abstract class myClass with abstract method myAbstractMethod",
     "output_type": "error",
     "traceback": [
      "\u001b[0;31m---------------------------------------------------------------------------\u001b[0m",
      "\u001b[0;31mTypeError\u001b[0m                                 Traceback (most recent call last)",
      "\u001b[0;32m<ipython-input-39-207756c84419>\u001b[0m in \u001b[0;36m<module>\u001b[0;34m\u001b[0m\n\u001b[1;32m     12\u001b[0m     \u001b[0;32mpass\u001b[0m\u001b[0;34m\u001b[0m\u001b[0;34m\u001b[0m\u001b[0m\n\u001b[1;32m     13\u001b[0m \u001b[0;34m\u001b[0m\u001b[0m\n\u001b[0;32m---> 14\u001b[0;31m \u001b[0ma\u001b[0m \u001b[0;34m=\u001b[0m \u001b[0mmyClass\u001b[0m\u001b[0;34m(\u001b[0m\u001b[0;34m)\u001b[0m\u001b[0;34m\u001b[0m\u001b[0;34m\u001b[0m\u001b[0m\n\u001b[0m\u001b[1;32m     15\u001b[0m \u001b[0ma\u001b[0m\u001b[0;34m.\u001b[0m\u001b[0mmyMethod\u001b[0m\u001b[0;34m(\u001b[0m\u001b[0;34m)\u001b[0m\u001b[0;34m\u001b[0m\u001b[0;34m\u001b[0m\u001b[0m\n",
      "\u001b[0;31mTypeError\u001b[0m: Can't instantiate abstract class myClass with abstract method myAbstractMethod"
     ]
    }
   ],
   "source": [
    "from abc import abstractmethod, ABC\n",
    "\n",
    "class myAbstractClass(ABC):\n",
    "    @abstractmethod\n",
    "    def myAbstractMethod(self):\n",
    "        print(\"Abstract\")\n",
    "        \n",
    "    def myMethod(self):\n",
    "        print(\"Normal\")\n",
    "        \n",
    "class myClass(myAbstractClass):\n",
    "    pass\n",
    "\n",
    "a = myClass()\n",
    "a.myMethod()"
   ]
  },
  {
   "cell_type": "markdown",
   "id": "f7f566fe",
   "metadata": {},
   "source": [
    "\n",
    "Декоратор `@property` позволяет работать с методом класса как с атрибутом."
   ]
  },
  {
   "cell_type": "code",
   "execution_count": 55,
   "id": "0c4ce28c",
   "metadata": {},
   "outputs": [
    {
     "name": "stdout",
     "output_type": "stream",
     "text": [
      "8\n"
     ]
    },
    {
     "data": {
      "text/plain": [
       "2000"
      ]
     },
     "execution_count": 55,
     "metadata": {},
     "output_type": "execute_result"
    }
   ],
   "source": [
    "# пример 1\n",
    "\n",
    "class lol:\n",
    "    \n",
    "    def __init__(self, year):\n",
    "        self.year = year\n",
    "        \n",
    "    @property\n",
    "    \n",
    "    def lol(self):\n",
    "        return self.year+4\n",
    "    \n",
    "print(lol(4).lol)\n",
    "\n",
    "# пример 2\n",
    "\n",
    "class Auto:\n",
    "    def __init__(self, year):\n",
    "        self.year = year\n",
    "        \n",
    "    # Создаем property под названием year\n",
    "    \n",
    "    @property\n",
    "    def year(self):\n",
    "        return self.__year\n",
    "    \n",
    "    # Создаем сеттер для изменения этой property\n",
    "    \n",
    "    @year.setter\n",
    "    def year(self, year):\n",
    "        if year < 2000: \n",
    "            self.__year = 2000\n",
    "        elif year > 2019:\n",
    "            self.__year = 2019\n",
    "        else:\n",
    "            self.__year = year\n",
    "            \n",
    "a = Auto(1989)\n",
    "a.year"
   ]
  },
  {
   "cell_type": "markdown",
   "id": "76027316",
   "metadata": {},
   "source": [
    "Композиция: создаем класс-контейнер, в который входит еще несколько классов."
   ]
  },
  {
   "cell_type": "code",
   "execution_count": 59,
   "id": "7116831f",
   "metadata": {},
   "outputs": [],
   "source": [
    "class WindowDoor:\n",
    "    def __init__(self, wd_len, wd_height):\n",
    "        self.square = wd_len * wd_height\n",
    "        \n",
    "class Room: # контейнер; будет содержать вызов класса WindowDoor\n",
    "    def __init__(self, len1, len2, height):\n",
    "        self.square = 2 * (len1 + len2) * height\n",
    "        self.wd = []\n",
    "        \n",
    "    def addWindowDoor(self, wd_len, wd_height):\n",
    "        self.wd.append(WindowDoor(wd_len, wd_height))\n",
    "        \n",
    "    def calculateWallArea(self):\n",
    "        total = self.square\n",
    "        for el in self.wd:\n",
    "            total -= el.square\n",
    "        return total"
   ]
  },
  {
   "cell_type": "code",
   "execution_count": 60,
   "id": "dff789a4",
   "metadata": {},
   "outputs": [
    {
     "data": {
      "text/plain": [
       "84"
      ]
     },
     "execution_count": 60,
     "metadata": {},
     "output_type": "execute_result"
    }
   ],
   "source": [
    "a = Room(10, 5, 3)\n",
    "a.addWindowDoor(1,2)\n",
    "a.addWindowDoor(2,2)\n",
    "a.calculateWallArea()"
   ]
  }
 ],
 "metadata": {
  "kernelspec": {
   "display_name": "Python 3",
   "language": "python",
   "name": "python3"
  },
  "language_info": {
   "codemirror_mode": {
    "name": "ipython",
    "version": 3
   },
   "file_extension": ".py",
   "mimetype": "text/x-python",
   "name": "python",
   "nbconvert_exporter": "python",
   "pygments_lexer": "ipython3",
   "version": "3.9.5"
  }
 },
 "nbformat": 4,
 "nbformat_minor": 5
}
