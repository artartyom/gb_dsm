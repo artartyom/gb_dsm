{
 "cells": [
  {
   "cell_type": "markdown",
   "id": "14a439cb",
   "metadata": {},
   "source": [
    "Статические методы и методы класса\n",
    "\n",
    "@staticmethod\n",
    "\n",
    "Декоратор для метода класса. Такой метод вызывается напрямую через имя класса. Статический метод. Он не может изменять экземпляр класса. Имеет смысл, если мы никак не взаимодействуем с экземпляром класса.\n",
    "\n",
    "@classmethod\n",
    "\n",
    "Декоратор для метода класса, такой метод вызывается с классом в качестве первого аргумента. Взаимодействует не с одним экземпляром, а со всем классом!"
   ]
  },
  {
   "cell_type": "code",
   "execution_count": 4,
   "id": "900f0e09",
   "metadata": {},
   "outputs": [
    {
     "data": {
      "text/plain": [
       "'Hello'"
      ]
     },
     "execution_count": 4,
     "metadata": {},
     "output_type": "execute_result"
    }
   ],
   "source": [
    "class My:\n",
    "    @staticmethod\n",
    "    def method1(): # static - no \"self\" needed\n",
    "        return(\"Hello\")\n",
    "        \n",
    "My.method1()"
   ]
  },
  {
   "cell_type": "code",
   "execution_count": 6,
   "id": "45e52f60",
   "metadata": {},
   "outputs": [
    {
     "name": "stdout",
     "output_type": "stream",
     "text": [
      "Hello\n"
     ]
    }
   ],
   "source": [
    "class My:\n",
    "    @staticmethod\n",
    "    def method1(): \n",
    "        return(\"Hello\")\n",
    "    \n",
    "    @classmethod # class method, so all changes to cls will affect all the objects\n",
    "    def method2(cls):\n",
    "        print(cls.method1())\n",
    "        \n",
    "My.method2()"
   ]
  },
  {
   "cell_type": "code",
   "execution_count": 8,
   "id": "1790603e",
   "metadata": {},
   "outputs": [
    {
     "data": {
      "text/plain": [
       "<__main__.Fio at 0x7f50d799cc70>"
      ]
     },
     "execution_count": 8,
     "metadata": {},
     "output_type": "execute_result"
    }
   ],
   "source": [
    "class Fio:\n",
    "    \n",
    "    def __init__(self, name, surname):\n",
    "        self.name = name\n",
    "        self.surname = surname\n",
    "        \n",
    "    @classmethod #can use this to return an objecto fo our class with 'wrong' parameters\n",
    "    def set_fio(cls, arg):\n",
    "        return Fio(arg[0], arg[1])\n",
    "    \n",
    "args = [\"Petr\", \"Petrov\", \"Petrovich\"]\n",
    "Fio.set_fio(args) # no error"
   ]
  },
  {
   "cell_type": "code",
   "execution_count": 10,
   "id": "a2bfb637",
   "metadata": {},
   "outputs": [
    {
     "data": {
      "text/plain": [
       "<Response [200]>"
      ]
     },
     "execution_count": 10,
     "metadata": {},
     "output_type": "execute_result"
    }
   ],
   "source": [
    "import requests\n",
    "requests.get(\"https://www.github.com/requests\")"
   ]
  }
 ],
 "metadata": {
  "kernelspec": {
   "display_name": "Python 3",
   "language": "python",
   "name": "python3"
  },
  "language_info": {
   "codemirror_mode": {
    "name": "ipython",
    "version": 3
   },
   "file_extension": ".py",
   "mimetype": "text/x-python",
   "name": "python",
   "nbconvert_exporter": "python",
   "pygments_lexer": "ipython3",
   "version": "3.9.5"
  }
 },
 "nbformat": 4,
 "nbformat_minor": 5
}
