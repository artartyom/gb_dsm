{
 "cells": [
  {
   "cell_type": "markdown",
   "id": "9d1bdd87",
   "metadata": {},
   "source": [
    "# Functions"
   ]
  },
  {
   "cell_type": "code",
   "execution_count": 2,
   "id": "b6a45aad",
   "metadata": {},
   "outputs": [
    {
     "data": {
      "text/plain": [
       "'res = 5'"
      ]
     },
     "execution_count": 2,
     "metadata": {},
     "output_type": "execute_result"
    }
   ],
   "source": [
    "def my_sum(a1, a2):\n",
    "    return f'res = {a1 + a2}'\n",
    "\n",
    "my_sum(2,3)"
   ]
  },
  {
   "cell_type": "code",
   "execution_count": 3,
   "id": "b6f543e1",
   "metadata": {},
   "outputs": [
    {
     "data": {
      "text/plain": [
       "'res = 5'"
      ]
     },
     "execution_count": 3,
     "metadata": {},
     "output_type": "execute_result"
    }
   ],
   "source": [
    "def my_sum(a1, a2):\n",
    "    return \"res = {}\".format(a1 + a2)\n",
    "\n",
    "my_sum(2,3)"
   ]
  },
  {
   "cell_type": "code",
   "execution_count": 12,
   "id": "9b0477ec",
   "metadata": {},
   "outputs": [
    {
     "name": "stdout",
     "output_type": "stream",
     "text": [
      "<class 'tuple'>\n"
     ]
    },
    {
     "data": {
      "text/plain": [
       "14"
      ]
     },
     "execution_count": 12,
     "metadata": {},
     "output_type": "execute_result"
    }
   ],
   "source": [
    "def my_many_sum(*args):\n",
    "    print(type(args))\n",
    "    return sum(args)\n",
    "\n",
    "my_many_sum(2,3,4,5)"
   ]
  },
  {
   "cell_type": "code",
   "execution_count": 14,
   "id": "56d111fa",
   "metadata": {},
   "outputs": [
    {
     "name": "stdout",
     "output_type": "stream",
     "text": [
      "<class 'dict'>\n"
     ]
    }
   ],
   "source": [
    "def my_kwargs(**kwargs):\n",
    "    print(type(kwargs))\n",
    "    \n",
    "my_kwargs(a = 1, b = 2)"
   ]
  },
  {
   "cell_type": "code",
   "execution_count": 16,
   "id": "930f8115",
   "metadata": {},
   "outputs": [
    {
     "data": {
      "text/plain": [
       "3"
      ]
     },
     "execution_count": 16,
     "metadata": {},
     "output_type": "execute_result"
    }
   ],
   "source": [
    "shortsum = (lambda x, y: x + y)\n",
    "shortsum(1, 2)"
   ]
  },
  {
   "cell_type": "code",
   "execution_count": 3,
   "id": "1c2c6be7",
   "metadata": {},
   "outputs": [
    {
     "name": "stdout",
     "output_type": "stream",
     "text": [
      "<class 'int'>\n",
      "<class 'int'>\n",
      "<class 'int'>\n",
      "<class 'int'>\n"
     ]
    },
    {
     "data": {
      "text/plain": [
       "[None, None, None, None]"
      ]
     },
     "execution_count": 3,
     "metadata": {},
     "output_type": "execute_result"
    }
   ],
   "source": [
    "strlist = ['1','2','3','4']\n",
    "list(map(lambda x: print(type(int(x))),strlist))"
   ]
  },
  {
   "cell_type": "code",
   "execution_count": 7,
   "id": "b66f6a04",
   "metadata": {},
   "outputs": [
    {
     "name": "stdout",
     "output_type": "stream",
     "text": [
      "5\n",
      "100\n"
     ]
    }
   ],
   "source": [
    "a = 5\n",
    "\n",
    "def changer(a):\n",
    "    global b # globals are accessible outside the function\n",
    "    a = 100\n",
    "    b = 100\n",
    "    \n",
    "changer(a)\n",
    "print(a)\n",
    "print(b)"
   ]
  },
  {
   "cell_type": "code",
   "execution_count": 8,
   "id": "e59ef921",
   "metadata": {},
   "outputs": [
    {
     "name": "stdout",
     "output_type": "stream",
     "text": [
      "5\n"
     ]
    }
   ],
   "source": [
    "# A is not a daughter of B so A's scope is not inside B's scope. Looks up a global variable\n",
    "\n",
    "def a():\n",
    "    print(z + 5)\n",
    "    \n",
    "def b():\n",
    "    z = 10\n",
    "    a()\n",
    "    \n",
    "z = 0\n",
    "b()"
   ]
  },
  {
   "cell_type": "code",
   "execution_count": 9,
   "id": "d94c717e",
   "metadata": {},
   "outputs": [
    {
     "name": "stdout",
     "output_type": "stream",
     "text": [
      "15\n"
     ]
    }
   ],
   "source": [
    "# A is a daughter of B so A's scope is inside B's scope. Looks up a nonlocal variable\n",
    "\n",
    "def b():\n",
    "    \n",
    "    def a():\n",
    "        print(z + 5)\n",
    "    \n",
    "    z = 10\n",
    "    a()\n",
    "    \n",
    "z = 0\n",
    "b()"
   ]
  },
  {
   "cell_type": "code",
   "execution_count": 15,
   "id": "395bbf12",
   "metadata": {},
   "outputs": [],
   "source": [
    "# this is a comment\n",
    "\n",
    "\"\"\" this is a also a comment \"\"\"\n",
    "\n",
    "\"\"\" \n",
    "and this is a \n",
    "MULTILINE\n",
    "comment\n",
    "\"\"\"\n",
    "pass"
   ]
  }
 ],
 "metadata": {
  "kernelspec": {
   "display_name": "Python 3",
   "language": "python",
   "name": "python3"
  },
  "language_info": {
   "codemirror_mode": {
    "name": "ipython",
    "version": 3
   },
   "file_extension": ".py",
   "mimetype": "text/x-python",
   "name": "python",
   "nbconvert_exporter": "python",
   "pygments_lexer": "ipython3",
   "version": "3.9.5"
  }
 },
 "nbformat": 4,
 "nbformat_minor": 5
}
