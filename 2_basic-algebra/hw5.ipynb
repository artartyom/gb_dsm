{
 "cells": [
  {
   "cell_type": "code",
   "execution_count": 1,
   "id": "e21d420d",
   "metadata": {},
   "outputs": [],
   "source": [
    "import numpy as np\n",
    "import pandas as pd\n",
    "import matplotlib.pyplot as plt\n",
    "import seaborn as sns"
   ]
  },
  {
   "cell_type": "markdown",
   "id": "5d38e21b",
   "metadata": {},
   "source": [
    "## Задание 1"
   ]
  },
  {
   "cell_type": "code",
   "execution_count": 2,
   "id": "3c9776f7",
   "metadata": {},
   "outputs": [],
   "source": [
    "class Roulette:\n",
    "\n",
    "    __red = [1, 3, 5, 7, 9, 12, 14, 16, 18, 19, 21, 23, 25, 27, 30, 32, 34, 36]\n",
    "    \n",
    "    def __init__(self,american = False):\n",
    "        self.lastroll = -2\n",
    "        self.american = american\n",
    " \n",
    "    def __str__(self):\n",
    "        if self.american:\n",
    "            outstr = \"Американская рулетка.\\n\"\n",
    "        else:\n",
    "            outstr = \"Классическая рулетка.\\n\"\n",
    "        if self.lastroll == -2:\n",
    "            outstr += \"Рулетка никогда не запускалась.\"\n",
    "        else:\n",
    "            if self.lastroll <= 0:\n",
    "                outstr += \"Последнее значение: зеро.\"\n",
    "            else:\n",
    "                outstr += \"Последнее значение: {}. {}.\".format(self.lastroll, \"Красное\" if self.lastroll in Roulette.__red else \"Черное\")\n",
    "        return outstr\n",
    "    \n",
    "    def roll(self):\n",
    "        self.lastroll = np.random.randint(0-self.american, 37)\n",
    "        print(self)"
   ]
  },
  {
   "cell_type": "code",
   "execution_count": 3,
   "id": "6b3cb303",
   "metadata": {},
   "outputs": [
    {
     "name": "stdout",
     "output_type": "stream",
     "text": [
      "Классическая рулетка.\n",
      "Последнее значение: 17. Черное.\n"
     ]
    }
   ],
   "source": [
    "clsR = Roulette()\n",
    "clsR.roll()"
   ]
  },
  {
   "cell_type": "code",
   "execution_count": 4,
   "id": "d5cc189b",
   "metadata": {},
   "outputs": [
    {
     "name": "stdout",
     "output_type": "stream",
     "text": [
      "Американская рулетка.\n",
      "Последнее значение: 3. Красное.\n"
     ]
    }
   ],
   "source": [
    "amR = Roulette(american=True)\n",
    "amR.roll()"
   ]
  },
  {
   "cell_type": "markdown",
   "id": "9c24e25e",
   "metadata": {},
   "source": [
    "## Задание 2\n",
    "\n",
    "### 2.1\n",
    "\n",
    "Проверим, что $P(AB) = P(A)\\cdot P(B)$, если $A$ и $B$ - независимые события. Пусть $A$ - орел (1), $B$ - решка (0). Тогда $AB$ - последовательность \"орел-решка\". Проведем 1 миллион экспериментов с 2 бросками. `np.random.randint` выбирает объекты из равномерного распределения, соответственно, для орла и для решки отдельно вероятность 50%."
   ]
  },
  {
   "cell_type": "code",
   "execution_count": 5,
   "id": "822d2167",
   "metadata": {},
   "outputs": [
    {
     "name": "stdout",
     "output_type": "stream",
     "text": [
      "Соответствует заданному условию 249996 бросков из 1000000 произведенных.\n",
      "Вероятность 0.25.\n"
     ]
    }
   ],
   "source": [
    "n = 1000000\n",
    "throw1 = np.random.randint(0, 2, size = n, dtype = 'int8')\n",
    "throw2 = np.random.randint(0, 2, size = n, dtype = 'int8')\n",
    "\n",
    "nCorrectThrows = np.sum(np.all([throw1 == 1, throw2 == 0], axis = 0))\n",
    "\n",
    "print(\"Соответствует заданному условию {} бросков из {} произведенных.\\nВероятность {}.\".format(nCorrectThrows, n, round(nCorrectThrows/n, 5)))"
   ]
  },
  {
   "cell_type": "markdown",
   "id": "b55d3ea0",
   "metadata": {},
   "source": [
    "### 2.2\n",
    "\n",
    "Для выполнения задания создадим массив (10, n), где n - количество случайных величин. При увеличении n распределение сумм стремится к нормальному."
   ]
  },
  {
   "cell_type": "code",
   "execution_count": 6,
   "id": "a2fba9c1",
   "metadata": {},
   "outputs": [],
   "source": [
    "np.random.seed(1234)\n",
    "\n",
    "pwr = [i for i in range(1,6)]\n",
    "xS = []\n",
    "\n",
    "for n in pwr:\n",
    "    X = np.random.rand(10, 10**n) * 100\n",
    "    xS.append(np.sum(X, axis = 0))\n",
    "\n",
    "result = pd.DataFrame({\"n\": np.power(10,pwr),\n",
    "                      \"xS\": xS})\n"
   ]
  },
  {
   "cell_type": "code",
   "execution_count": 7,
   "id": "36463ab2",
   "metadata": {},
   "outputs": [
    {
     "data": {
      "text/plain": [
       "<seaborn.axisgrid.FacetGrid at 0x7fb6b70d12e0>"
      ]
     },
     "execution_count": 7,
     "metadata": {},
     "output_type": "execute_result"
    },
    {
     "data": {
      "image/png": "[encoded data removed]",
      "text/plain": [
       "<Figure size 1080x216 with 5 Axes>"
      ]
     },
     "metadata": {
      "needs_background": "light"
     },
     "output_type": "display_data"
    }
   ],
   "source": [
    "g = sns.FacetGrid(result, col = \"n\")\n",
    "g.map(plt.hist, \"xS\", density = True, bins = 20)"
   ]
  },
  {
   "cell_type": "markdown",
   "id": "c4d3cdc4",
   "metadata": {},
   "source": [
    "## Задание 3\n",
    "\n",
    "Обозначим вероятность события \"орел\" (1) $p$, тогда вероятность события \"решка\" (0) $q = 1 - p$. Для честной монеты $p = q = 0.5$."
   ]
  },
  {
   "cell_type": "code",
   "execution_count": 8,
   "id": "25cac505",
   "metadata": {},
   "outputs": [
    {
     "name": "stdout",
     "output_type": "stream",
     "text": [
      "3696 10000 0.3696\n"
     ]
    }
   ],
   "source": [
    "# Код из урока\n",
    "k, n = 0, 10000\n",
    "a = np.random.randint(0, 2, n)\n",
    "b = np.random.randint(0, 2, n)\n",
    "c = np.random.randint(0, 2, n)\n",
    "d = np.random.randint(0, 2, n)\n",
    "x = a + b + c + d\n",
    "for i in range(n):\n",
    "    if x[i] == 2:\n",
    "        k += 1\n",
    "print(k, n, k/n)"
   ]
  },
  {
   "cell_type": "markdown",
   "id": "1d1776b0",
   "metadata": {},
   "source": [
    "### 3.1\n",
    "\n",
    "По условию задания, нам нужно, чтобы из 4 бросков было 2 успеха. По формуле Бернулли:\n",
    "\n",
    "$P_{n}(k) = \\frac{n!}{k!(n-k)!}p^kq^{n-k}$"
   ]
  },
  {
   "cell_type": "code",
   "execution_count": 9,
   "id": "4179cee4",
   "metadata": {},
   "outputs": [
    {
     "name": "stdout",
     "output_type": "stream",
     "text": [
      "Теоретическая вероятность: 0.375\n"
     ]
    }
   ],
   "source": [
    "def probNumSuccesses(n, k, p):\n",
    "    fact = np.math.factorial\n",
    "    return (fact(n)/(fact(k)*fact(n-k)))*(p**k)*((1-p)**(n-k))\n",
    "\n",
    "n = 4\n",
    "k = 2\n",
    "p = 0.5\n",
    "\n",
    "print(\"Теоретическая вероятность: {}\".format(probNumSuccesses(n, k, p)))"
   ]
  },
  {
   "cell_type": "markdown",
   "id": "da7f7384",
   "metadata": {},
   "source": [
    "### 3.2\n",
    "\n",
    "Повторим расчеты для других n, k и p. Пусть из 10 бросков нужно, чтобы 3 раза выпал орел, при этом вероятность выпадения орла 0.2."
   ]
  },
  {
   "cell_type": "code",
   "execution_count": 10,
   "id": "c1d0db66",
   "metadata": {},
   "outputs": [
    {
     "name": "stdout",
     "output_type": "stream",
     "text": [
      "0.2013265920000001\n"
     ]
    }
   ],
   "source": [
    "print(probNumSuccesses(10, 3, 0.2))"
   ]
  },
  {
   "cell_type": "markdown",
   "id": "23fdd460",
   "metadata": {},
   "source": [
    "## Задание 4"
   ]
  },
  {
   "cell_type": "code",
   "execution_count": 11,
   "id": "f7c4771d",
   "metadata": {},
   "outputs": [],
   "source": [
    "from itertools import permutations"
   ]
  },
  {
   "cell_type": "code",
   "execution_count": 12,
   "id": "0631b98f",
   "metadata": {
    "scrolled": true
   },
   "outputs": [
    {
     "name": "stdout",
     "output_type": "stream",
     "text": [
      "n = 10, k = 4: 5040 permutations\n",
      "n = 5, k = 1: 5 permutations\n",
      "Выбрать один объект из пяти можно 5 способами.\n",
      "n = 4, k = 4: 24 permutations\n",
      "Частный случай n!, т.к. k=n\n"
     ]
    }
   ],
   "source": [
    "n, k = 10, 4\n",
    "print(\"n = {}, k = {}: {} permutations\".format(n, k, len(list(permutations(range(n), k)))))\n",
    "\n",
    "n, k = 5, 1\n",
    "print(\"n = {}, k = {}: {} permutations\".format(n, k, len(list(permutations(range(n), k)))))\n",
    "print(\"Выбрать один объект из пяти можно 5 способами.\")\n",
    "\n",
    "n, k = 4, 4\n",
    "print(\"n = {}, k = {}: {} permutations\".format(n, k, len(list(permutations(range(n), k)))))\n",
    "print(\"Частный случай n!, т.к. k=n\")"
   ]
  },
  {
   "cell_type": "markdown",
   "id": "20e75b08",
   "metadata": {},
   "source": [
    "## Задание 5"
   ]
  },
  {
   "cell_type": "code",
   "execution_count": 13,
   "id": "6613d732",
   "metadata": {},
   "outputs": [
    {
     "name": "stdout",
     "output_type": "stream",
     "text": [
      "[[1.         0.99392089]\n",
      " [0.99392089 1.        ]]\n"
     ]
    }
   ],
   "source": [
    "# Код из урока\n",
    "\n",
    "n = 100\n",
    "r = 0.9\n",
    "x = np.random.rand(n)\n",
    "y = r*x + (1 - r)*np.random.rand(n)\n",
    "c = np.corrcoef(x, y)\n",
    "print(c)"
   ]
  },
  {
   "cell_type": "code",
   "execution_count": 14,
   "id": "49d5702e",
   "metadata": {},
   "outputs": [
    {
     "name": "stdout",
     "output_type": "stream",
     "text": [
      "0.993920892590706\n"
     ]
    }
   ],
   "source": [
    "xMu = np.mean(x)\n",
    "yMu = np.mean(y)\n",
    "cc = (np.sum((x - xMu)*(y - yMu))) / (np.sqrt(np.sum(np.square(x-xMu))*np.sum(np.square(y-yMu))))\n",
    "\n",
    "print(cc)"
   ]
  }
 ],
 "metadata": {
  "kernelspec": {
   "display_name": "Python 3",
   "language": "python",
   "name": "python3"
  },
  "language_info": {
   "codemirror_mode": {
    "name": "ipython",
    "version": 3
   },
   "file_extension": ".py",
   "mimetype": "text/x-python",
   "name": "python",
   "nbconvert_exporter": "python",
   "pygments_lexer": "ipython3",
   "version": "3.9.6"
  }
 },
 "nbformat": 4,
 "nbformat_minor": 5
}
